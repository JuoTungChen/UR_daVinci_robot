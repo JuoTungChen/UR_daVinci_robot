{
 "cells": [
  {
   "cell_type": "markdown",
   "metadata": {},
   "source": [
    "# Coupling"
   ]
  },
  {
   "cell_type": "code",
   "execution_count": 1,
   "metadata": {},
   "outputs": [],
   "source": [
    "from sympy import *\n",
    "init_printing()"
   ]
  },
  {
   "cell_type": "code",
   "execution_count": 2,
   "metadata": {},
   "outputs": [],
   "source": [
    "# gear box ratio\n",
    "N = Symbol('N')\n",
    "\n",
    "# disc -> joint transmission ratio for each link\n",
    "t1 = Symbol('t_1')\n",
    "t2 = Symbol('t_2')\n",
    "t3 = Symbol('t_3')\n",
    "t4 = Symbol('t_4')\n",
    "\n",
    "# wrist coupling (differs depending on tool type, typically around 0.5)\n",
    "w = Symbol('w')\n",
    "\n",
    "K = Matrix([\n",
    "    [t1,  0,     0,   0 ],\n",
    "    [0,   t2,    0,   0 ],\n",
    "    [0,  -t2*w,  t3,  0 ],\n",
    "    [0,   t2*w,  0,   t4]\n",
    "])"
   ]
  },
  {
   "cell_type": "code",
   "execution_count": 3,
   "metadata": {
    "scrolled": true
   },
   "outputs": [
    {
     "data": {
      "image/png": "[encoded data removed]",
      "text/latex": [
       "$\\displaystyle \\left[\\begin{matrix}t_{1} & 0 & 0 & 0\\\\0 & t_{2} & 0 & 0\\\\0 & - t_{2} w & t_{3} & 0\\\\0 & t_{2} w & 0 & t_{4}\\end{matrix}\\right]$"
      ],
      "text/plain": [
       "⎡t₁    0    0   0 ⎤\n",
       "⎢                 ⎥\n",
       "⎢0    t₂    0   0 ⎥\n",
       "⎢                 ⎥\n",
       "⎢0   -t₂⋅w  t₃  0 ⎥\n",
       "⎢                 ⎥\n",
       "⎣0   t₂⋅w   0   t₄⎦"
      ]
     },
     "execution_count": 3,
     "metadata": {},
     "output_type": "execute_result"
    }
   ],
   "source": [
    "K"
   ]
  },
  {
   "cell_type": "code",
   "execution_count": 4,
   "metadata": {},
   "outputs": [
    {
     "data": {
      "image/png": "[encoded data removed]",
      "text/latex": [
       "$\\displaystyle \\left[\\begin{matrix}\\frac{1}{t_{1}} & 0 & 0 & 0\\\\0 & \\frac{1}{t_{2}} & 0 & 0\\\\0 & \\frac{w}{t_{3}} & \\frac{1}{t_{3}} & 0\\\\0 & - \\frac{w}{t_{4}} & 0 & \\frac{1}{t_{4}}\\end{matrix}\\right]$"
      ],
      "text/plain": [
       "⎡1              ⎤\n",
       "⎢──   0   0   0 ⎥\n",
       "⎢t₁             ⎥\n",
       "⎢               ⎥\n",
       "⎢    1          ⎥\n",
       "⎢0   ──   0   0 ⎥\n",
       "⎢    t₂         ⎥\n",
       "⎢               ⎥\n",
       "⎢    w    1     ⎥\n",
       "⎢0   ──   ──  0 ⎥\n",
       "⎢    t₃   t₃    ⎥\n",
       "⎢               ⎥\n",
       "⎢    -w       1 ⎥\n",
       "⎢0   ───  0   ──⎥\n",
       "⎣     t₄      t₄⎦"
      ]
     },
     "execution_count": 4,
     "metadata": {},
     "output_type": "execute_result"
    }
   ],
   "source": [
    "K.inv()"
   ]
  },
  {
   "cell_type": "code",
   "execution_count": 5,
   "metadata": {},
   "outputs": [],
   "source": [
    "d = Matrix([\n",
    "    Symbol('d_1'),\n",
    "    Symbol('d_2'),\n",
    "    Symbol('d_3'),\n",
    "    Symbol('d_4'),\n",
    "])\n",
    "j = Matrix([\n",
    "    Symbol('j_1'),\n",
    "    Symbol('j_2'),\n",
    "    Symbol('j_3'),\n",
    "    Symbol('j_4'),\n",
    "])"
   ]
  },
  {
   "cell_type": "markdown",
   "metadata": {},
   "source": [
    "Compute joint angles from disc angles:"
   ]
  },
  {
   "cell_type": "code",
   "execution_count": 6,
   "metadata": {},
   "outputs": [
    {
     "data": {
      "image/png": "[encoded data removed]",
      "text/latex": [
       "$\\displaystyle \\left[\\begin{matrix}d_{1} t_{1}\\\\d_{2} t_{2}\\\\- d_{2} t_{2} w + d_{3} t_{3}\\\\d_{2} t_{2} w + d_{4} t_{4}\\end{matrix}\\right]$"
      ],
      "text/plain": [
       "⎡     d₁⋅t₁      ⎤\n",
       "⎢                ⎥\n",
       "⎢     d₂⋅t₂      ⎥\n",
       "⎢                ⎥\n",
       "⎢-d₂⋅t₂⋅w + d₃⋅t₃⎥\n",
       "⎢                ⎥\n",
       "⎣d₂⋅t₂⋅w + d₄⋅t₄ ⎦"
      ]
     },
     "execution_count": 6,
     "metadata": {},
     "output_type": "execute_result"
    }
   ],
   "source": [
    "j_ = K * d\n",
    "simplify(j_)"
   ]
  },
  {
   "cell_type": "markdown",
   "metadata": {},
   "source": [
    "Compute disc angles from joint angles"
   ]
  },
  {
   "cell_type": "code",
   "execution_count": 7,
   "metadata": {
    "scrolled": false
   },
   "outputs": [
    {
     "data": {
      "image/png": "[encoded data removed]",
      "text/latex": [
       "$\\displaystyle \\left[\\begin{matrix}\\frac{j_{1}}{t_{1}}\\\\\\frac{j_{2}}{t_{2}}\\\\\\frac{j_{2} w + j_{3}}{t_{3}}\\\\\\frac{- j_{2} w + j_{4}}{t_{4}}\\end{matrix}\\right]$"
      ],
      "text/plain": [
       "⎡    j₁    ⎤\n",
       "⎢    ──    ⎥\n",
       "⎢    t₁    ⎥\n",
       "⎢          ⎥\n",
       "⎢    j₂    ⎥\n",
       "⎢    ──    ⎥\n",
       "⎢    t₂    ⎥\n",
       "⎢          ⎥\n",
       "⎢j₂⋅w + j₃ ⎥\n",
       "⎢───────── ⎥\n",
       "⎢    t₃    ⎥\n",
       "⎢          ⎥\n",
       "⎢-j₂⋅w + j₄⎥\n",
       "⎢──────────⎥\n",
       "⎣    t₄    ⎦"
      ]
     },
     "execution_count": 7,
     "metadata": {},
     "output_type": "execute_result"
    }
   ],
   "source": [
    "d_ = K.inv() * j\n",
    "simplify(d_)"
   ]
  }
 ],
 "metadata": {
  "kernelspec": {
   "display_name": "Python 3",
   "language": "python",
   "name": "python3"
  },
  "language_info": {
   "codemirror_mode": {
    "name": "ipython",
    "version": 3
   },
   "file_extension": ".py",
   "mimetype": "text/x-python",
   "name": "python",
   "nbconvert_exporter": "python",
   "pygments_lexer": "ipython3",
   "version": "3.6.8"
  }
 },
 "nbformat": 4,
 "nbformat_minor": 1
}
